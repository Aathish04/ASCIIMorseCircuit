{
 "cells": [
  {
   "cell_type": "code",
   "execution_count": 28,
   "metadata": {},
   "outputs": [],
   "source": [
    "import numpy as np\n",
    "import pandas as pd\n",
    "import requests\n",
    "\n",
    "import time"
   ]
  },
  {
   "cell_type": "code",
   "execution_count": 29,
   "metadata": {},
   "outputs": [],
   "source": [
    "headers = {\n",
    "    'Accept': 'text/html,application/xhtml+xml,application/xml;q=0.9,image/avif,image/webp,image/apng,*/*;q=0.8,application/signed-exchange;v=b3;q=0.9',\n",
    "    'Accept-Language': 'en-GB,en-IN;q=0.9,en-US;q=0.8,en;q=0.7',\n",
    "    'Cache-Control': 'max-age=0',\n",
    "    'Connection': 'keep-alive',\n",
    "    'DNT': '1',\n",
    "    'Origin': 'http://www.32x8.com',\n",
    "    'Referer': 'http://www.32x8.com/var5.html',\n",
    "    'Upgrade-Insecure-Requests': '1',\n",
    "    'User-Agent': 'Mozilla/5.0 (Macintosh; Intel Mac OS X 10_15_7) AppleWebKit/537.36 (KHTML, like Gecko) Chrome/108.0.0.0 Safari/537.36',\n",
    "}\n",
    "\n",
    "data = {\n",
    "    'calctype': 'sop',\n",
    "    'in0': '0',\n",
    "    'in1': '0',\n",
    "    'in2': '0',\n",
    "    'in3': '0',\n",
    "    'drawtype': 'htmlcss',\n",
    "    'in4': '0',\n",
    "    'in5': '0',\n",
    "    'in6': '0',\n",
    "    'in7': '0',\n",
    "    'in8': '0',\n",
    "    'in9': '0',\n",
    "    'in10': '0',\n",
    "    'in11': '0',\n",
    "    'in12': '0',\n",
    "    'in13': '0',\n",
    "    'in14': '0',\n",
    "    'in15': '0',\n",
    "    'in16': '0',\n",
    "    'in17': '0',\n",
    "    'in18': '0',\n",
    "    'in19': '0',\n",
    "    'in20': '0',\n",
    "    'in21': '0',\n",
    "    'in22': '0',\n",
    "    'in23': '0',\n",
    "    'in24': '0',\n",
    "    'in25': '0',\n",
    "    'in26': '0',\n",
    "    'in27': '0',\n",
    "    'in28': '0',\n",
    "    'in29': '0',\n",
    "    'in30': '0',\n",
    "    'in31': '0',\n",
    "}"
   ]
  },
  {
   "cell_type": "code",
   "execution_count": 30,
   "metadata": {},
   "outputs": [
    {
     "name": "stdout",
     "output_type": "stream",
     "text": [
      "Index(['A', 'B', 'C', 'D', 'E', 'letter', 'a', 'b', 'c', 'd', 'e', 'f', 'g',\n",
      "       'h', 'i', 'j'],\n",
      "      dtype='object')\n"
     ]
    }
   ],
   "source": [
    "df = pd.read_csv(\"morsetranslator.csv\",dtype=str)\n",
    "print(df.columns)"
   ]
  },
  {
   "cell_type": "code",
   "execution_count": 31,
   "metadata": {},
   "outputs": [
    {
     "name": "stdout",
     "output_type": "stream",
     "text": [
      "Expected NUL and got: ` with morse: xxxxxxxxxx\n",
      "Expected a and got: a with morse: 1011000000\n",
      "Expected b and got: b with morse: 1101010100\n",
      "Expected c and got: c with morse: 1101011010\n",
      "Expected d and got: d with morse: 1101010000\n",
      "Expected e and got: e with morse: 1000000000\n",
      "Expected f and got: f with morse: 1010110100\n",
      "Expected g and got: g with morse: 1101101000\n",
      "Expected h and got: h with morse: 1010101000\n",
      "Expected i and got: i with morse: 1010000000\n",
      "Expected j and got: j with morse: 1011011011\n",
      "Expected k and got: k with morse: 1101011000\n",
      "Expected l and got: l with morse: 1011010100\n",
      "Expected m and got: m with morse: 1101100000\n",
      "Expected n and got: n with morse: 1101000000\n",
      "Expected o and got: o with morse: 1101101100\n",
      "Expected p and got: p with morse: 1011011010\n",
      "Expected q and got: q with morse: 1101101011\n",
      "Expected r and got: r with morse: 1011010000\n",
      "Expected s and got: s with morse: 1010100000\n",
      "Expected t and got: t with morse: 1100000000\n",
      "Expected u and got: u with morse: 1010110000\n",
      "Expected v and got: v with morse: 1010101100\n",
      "Expected w and got: w with morse: 1011011000\n",
      "Expected x and got: x with morse: 1101010110\n",
      "Expected y and got: y with morse: 1101011011\n",
      "Expected z and got: z with morse: 1101101010\n",
      "Expected 0 and got: { with morse: xxxxxxxxxx\n",
      "Expected 0 and got: | with morse: xxxxxxxxxx\n",
      "Expected 0 and got: } with morse: xxxxxxxxxx\n",
      "Expected 0 and got: ~ with morse: xxxxxxxxxx\n",
      "Expected 0 and got:  with morse: xxxxxxxxxx\n"
     ]
    }
   ],
   "source": [
    "for index, row in df.iterrows():\n",
    "    binval = row['A']+row['B']+row['C']+row['D']+row['E']\n",
    "    print(f\"Expected {row['letter']} and got:\",end=\" \")\n",
    "    print(chr((ord('a')-1)+int(binval,base=2)),end=\" with morse: \")\n",
    "    morse = \"\"\n",
    "    for i in range(0,10):\n",
    "        outputbitcolname = chr(ord('a')+i)\n",
    "        morse+=(row[outputbitcolname])\n",
    "    print(morse)"
   ]
  },
  {
   "cell_type": "code",
   "execution_count": 34,
   "metadata": {},
   "outputs": [
    {
     "name": "stdout",
     "output_type": "stream",
     "text": [
      "a done\n",
      "b done\n",
      "c done\n",
      "d done\n",
      "e done\n",
      "f done\n",
      "g done\n",
      "h done\n",
      "i done\n",
      "j done\n"
     ]
    }
   ],
   "source": [
    "for i in range(0,10):\n",
    "    outputbitcolname = chr(ord('a')+i)\n",
    "    outputbitcol = df[outputbitcolname].tolist()\n",
    "    for minterm in range(0,32):\n",
    "        data[f\"in{minterm}\"] = outputbitcol[minterm]\n",
    "    r = requests.post('http://www.32x8.com/circuits5', headers=headers, data=data, verify=False)\n",
    "    output = requests.post(r.url,headers=headers,data=data).content.decode(\"utf-8\")\n",
    "    output = output.replace('\"css/','\"http://www.32x8.com/css/')\n",
    "    output = output.replace('href=\"css/styles.css\"','href=\"http://www.32x8.com/css/\"')\n",
    "    output = output.replace(\"<th>Y</th>\",f\"<th>{outputbitcolname}</th>\")\n",
    "    output = output.replace(\">y =\",f\">{outputbitcolname} =\")\n",
    "    with open(f\"OutputKMaps/{chr(ord('a')+i)}.html\",\"w\") as f:\n",
    "        f.write(output)\n",
    "    print(f\"{chr(ord('a')+i)} done\")\n",
    "    time.sleep(1)\n",
    "    # break"
   ]
  },
  {
   "cell_type": "code",
   "execution_count": 35,
   "metadata": {},
   "outputs": [
    {
     "name": "stdout",
     "output_type": "stream",
     "text": [
      "Loading page (1/2)\n",
      "Rendering (2/2)                                                    \n",
      "Done                                                               \n",
      "Loading page (1/2)\n",
      "Rendering (2/2)                                                    \n",
      "Done                                                               \n",
      "Loading page (1/2)\n",
      "Rendering (2/2)                                                    \n",
      "Done                                                               \n",
      "Loading page (1/2)\n",
      "Rendering (2/2)                                                    \n",
      "Done                                                               \n",
      "Loading page (1/2)\n",
      "Rendering (2/2)                                                    \n",
      "Done                                                               \n",
      "Loading page (1/2)\n",
      "Rendering (2/2)                                                    \n",
      "Done                                                               \n",
      "Loading page (1/2)\n",
      "Rendering (2/2)                                                    \n",
      "Done                                                               \n",
      "Loading page (1/2)\n",
      "Rendering (2/2)                                                    \n",
      "Done                                                               \n",
      "Loading page (1/2)\n",
      "Rendering (2/2)                                                    \n",
      "Done                                                               \n",
      "Loading page (1/2)\n",
      "Rendering (2/2)                                                    \n",
      "Done                                                               \n"
     ]
    }
   ],
   "source": [
    "import string\n",
    "import imgkit\n",
    "for letter in string.ascii_lowercase[:10]:\n",
    "   imgkit.from_file(f\"OutputKMaps/{letter}.html\",f\"OutputKMaps/images/jpg/{letter}.jpg\")"
   ]
  }
 ],
 "metadata": {
  "kernelspec": {
   "display_name": "AIML",
   "language": "python",
   "name": "python3"
  },
  "language_info": {
   "codemirror_mode": {
    "name": "ipython",
    "version": 3
   },
   "file_extension": ".py",
   "mimetype": "text/x-python",
   "name": "python",
   "nbconvert_exporter": "python",
   "pygments_lexer": "ipython3",
   "version": "3.10.8"
  },
  "orig_nbformat": 4,
  "vscode": {
   "interpreter": {
    "hash": "2a541ea71aafc8a3beab055d64243ab760e71d51517f03bc507f6f3836da97f8"
   }
  }
 },
 "nbformat": 4,
 "nbformat_minor": 2
}
